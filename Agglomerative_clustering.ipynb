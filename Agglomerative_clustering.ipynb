{
 "cells": [
  {
   "cell_type": "code",
   "execution_count": 98,
   "id": "68c13558",
   "metadata": {},
   "outputs": [],
   "source": [
    "# Import dependancies\n",
    "import numpy as np\n",
    "import statistics\n",
    "\n",
    "\n",
    "from sklearn import metrics\n",
    "from sklearn.datasets import load_digits\n",
    "from sklearn.cluster import AgglomerativeClustering\n",
    "from sklearn.metrics import confusion_matrix"
   ]
  },
  {
   "cell_type": "code",
   "execution_count": 99,
   "id": "752b6ef3",
   "metadata": {},
   "outputs": [],
   "source": [
    "#import datasets\n",
    "digits = load_digits()"
   ]
  },
  {
   "cell_type": "code",
   "execution_count": 100,
   "id": "24a987df",
   "metadata": {},
   "outputs": [],
   "source": [
    "# flatten the images\n",
    "n_samples = len(digits.images)\n",
    "\n",
    "data = digits.images.reshape((n_samples, -1))"
   ]
  },
  {
   "cell_type": "code",
   "execution_count": 101,
   "id": "aba68a09",
   "metadata": {},
   "outputs": [],
   "source": [
    "#x is feature vector and y is true labels\n",
    "x = data\n",
    "y = digits.target"
   ]
  },
  {
   "cell_type": "code",
   "execution_count": 102,
   "id": "4c33793b",
   "metadata": {},
   "outputs": [],
   "source": [
    "# 10 number of clusters are given as input to agglomerative clustering\n",
    "n_clusters = 10 \n",
    "\n",
    "# Input number of clusters and ward linkage method inside agglomerativeclustering function\n",
    "ward = AgglomerativeClustering(\n",
    "    n_clusters=n_clusters, linkage=\"ward\"\n",
    ")"
   ]
  },
  {
   "cell_type": "code",
   "execution_count": 103,
   "id": "35d6bc7e",
   "metadata": {},
   "outputs": [
    {
     "data": {
      "text/plain": [
       "array([7, 9, 4, ..., 4, 1, 4], dtype=int64)"
      ]
     },
     "execution_count": 103,
     "metadata": {},
     "output_type": "execute_result"
    }
   ],
   "source": [
    "#Fitting and predicting the clusters\n",
    "ward.fit_predict(x)"
   ]
  },
  {
   "cell_type": "code",
   "execution_count": 104,
   "id": "3269e0d6",
   "metadata": {},
   "outputs": [
    {
     "name": "stdout",
     "output_type": "stream",
     "text": [
      "Most frequent labels of 10 clusters: [5, 3, 2, 7, 8, 4, 6, 0, 1, 1]\n"
     ]
    }
   ],
   "source": [
    "#Check the cluster and see which true label value frequency is highest inside cluster\n",
    "assigned_label = ward.labels_\n",
    "true_label = digits.target\n",
    "\n",
    "temp = []\n",
    "mat = []\n",
    "corrected_label = []\n",
    "for i in range(10):\n",
    "    for j in range(n_samples):\n",
    "        if assigned_label[j] == i:\n",
    "            temp.append(true_label[j])\n",
    "            mode = statistics.mode(temp)\n",
    "    corrected_label.append(mode)\n",
    "    mat = temp\n",
    "    temp.clear()\n",
    "\n",
    "print(\"Most frequent labels of 10 clusters:\",corrected_label)"
   ]
  },
  {
   "cell_type": "markdown",
   "id": "9372972a",
   "metadata": {},
   "source": [
    "Only 9 labels are most occuring in 10 clusters found by agglomerative method. Cluster number 9 is not identified."
   ]
  },
  {
   "cell_type": "code",
   "execution_count": 105,
   "id": "9726ea3b",
   "metadata": {},
   "outputs": [],
   "source": [
    "# Assign most frequent true label value of cluster to all points in the cluster for all clusters\n",
    "\n",
    "new_label = np.zeros(1797)\n",
    "for i in range(10):\n",
    "    for j in range(n_samples):\n",
    "        if assigned_label[j] == i:\n",
    "            new_label[j] = corrected_label[i]\n"
   ]
  },
  {
   "cell_type": "code",
   "execution_count": 106,
   "id": "9ac8d25b",
   "metadata": {},
   "outputs": [
    {
     "name": "stdout",
     "output_type": "stream",
     "text": [
      "Accuracy: 0.8321395046705492\n"
     ]
    }
   ],
   "source": [
    "#print(\"Final cluster labels:\", new_label)\n",
    "print(\"Accuracy:\",metrics.fowlkes_mallows_score(true_label, new_label))"
   ]
  },
  {
   "cell_type": "code",
   "execution_count": 107,
   "id": "49310668",
   "metadata": {},
   "outputs": [
    {
     "name": "stdout",
     "output_type": "stream",
     "text": [
      "Confusion_matrix:\n",
      " [[178   0   0   0   0   0   0   0   0  -1]\n",
      " [  0 155  27   0   0   0   0   0   0  -1]\n",
      " [  0   0 166   0   0   0   0   1  10  -1]\n",
      " [  0   0   0 169   0   0   0   1  13  -1]\n",
      " [  0   0   0   0 178   0   0   3   0  -1]\n",
      " [  0   0   0   2   0 179   1   0   0  -1]\n",
      " [  0   0   0   0   0   0 180   0   1  -1]\n",
      " [  0   0   0   0   0   0   0 179   0  -1]\n",
      " [  0   3   4   1   0   0   0   1 165  -1]\n",
      " [  0  20   0 145   0   2   0  11   2  -1]]\n"
     ]
    }
   ],
   "source": [
    "confusion = confusion_matrix(true_label, new_label)\n",
    "\n",
    "confusion[::,9] = -1\n",
    "print(\"Confusion_matrix:\\n\",confusion)"
   ]
  }
 ],
 "metadata": {
  "kernelspec": {
   "display_name": "Python 3",
   "language": "python",
   "name": "python3"
  },
  "language_info": {
   "codemirror_mode": {
    "name": "ipython",
    "version": 3
   },
   "file_extension": ".py",
   "mimetype": "text/x-python",
   "name": "python",
   "nbconvert_exporter": "python",
   "pygments_lexer": "ipython3",
   "version": "3.8.8"
  }
 },
 "nbformat": 4,
 "nbformat_minor": 5
}
